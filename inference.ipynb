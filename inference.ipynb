{
 "cells": [
  {
   "cell_type": "code",
   "execution_count": 21,
   "metadata": {},
   "outputs": [],
   "source": [
    "import numpy as np\n",
    "import torch\n",
    "from ManhOCR.tool.translate import process_image, translate\n",
    "import cv2 \n",
    "from ManhOCR.text_recognition import TextRecognition\n",
    "from ManhOCR.model.vocab import Vocab\n",
    "from ManhOCR.tool.config import Cfg"
   ]
  },
  {
   "cell_type": "markdown",
   "metadata": {},
   "source": [
    "## Infernece normally"
   ]
  },
  {
   "cell_type": "code",
   "execution_count": 23,
   "metadata": {},
   "outputs": [],
   "source": [
    "text_recog_config_path = './ManhOCR/config/base.yml'\n",
    "text_recog_weights_path = \"./weights/convert_weight_2.pth.tar\"\n",
    "device = torch.device(\"cpu\")\n",
    "config = Cfg.load_config_from_file(text_recog_config_path)\n",
    "vocab = Vocab(config[\"vocab\"])"
   ]
  },
  {
   "cell_type": "code",
   "execution_count": 3,
   "metadata": {},
   "outputs": [],
   "source": [
    "repvgg_text_recog = TextRecognition(device=device, weight_path=text_recog_weights_path, config_path=text_recog_config_path, model_type='repvgg')"
   ]
  },
  {
   "cell_type": "code",
   "execution_count": 4,
   "metadata": {},
   "outputs": [],
   "source": [
    "img = cv2.imread('./sample/0.png')"
   ]
  },
  {
   "cell_type": "code",
   "execution_count": 5,
   "metadata": {},
   "outputs": [
    {
     "data": {
      "text/plain": "'CỘNG HOÀ XÃ HỘI CHỦ NGHĨA'"
     },
     "execution_count": 5,
     "metadata": {},
     "output_type": "execute_result"
    }
   ],
   "source": [
    "repvgg_text_recog.predict(img)"
   ]
  },
  {
   "cell_type": "code",
   "execution_count": 6,
   "metadata": {},
   "outputs": [],
   "source": [
    "cnn = torch.jit.load(\"./traced_scripts/cnn_model.pt\", map_location=device)\n",
    "encoder = torch.jit.load(\"./traced_scripts/encoder_model.pt\", map_location=device)\n",
    "decoder = torch.jit.load(\"./traced_scripts/decoder_model.pt\", map_location=device)"
   ]
  },
  {
   "cell_type": "code",
   "execution_count": 25,
   "metadata": {},
   "outputs": [],
   "source": [
    "def translate(img, max_seq_length=256, sos_token=1, eos_token=2):\n",
    "    \"\"\"data: BxCXHxW\"\"\"\n",
    "    device = img.device\n",
    "\n",
    "    with torch.no_grad():\n",
    "        src = cnn(img)\n",
    "        encoder_outputs, hidden = encoder(src)\n",
    "\n",
    "        translated_sentence = [[sos_token] * len(img)]\n",
    "        max_length = 0\n",
    "\n",
    "        while max_length <= max_seq_length and not all(\n",
    "            np.any(np.asarray(translated_sentence).T == eos_token, axis=1)\n",
    "        ):\n",
    "            tgt_inp = torch.LongTensor(translated_sentence).to(device)\n",
    "            tgt_inp = tgt_inp[-1]\n",
    "            output, hidden, _ = decoder(tgt_inp, hidden, encoder_outputs)\n",
    "            output = output.unsqueeze(1)\n",
    "            output = output.to(\"cpu\")\n",
    "\n",
    "            values, indices = torch.topk(output, 1)\n",
    "\n",
    "            indices = indices[:, -1, 0]\n",
    "            indices = indices.tolist()\n",
    "\n",
    "            translated_sentence.append(indices)\n",
    "            max_length += 1\n",
    "\n",
    "            del output\n",
    "\n",
    "        translated_sentence = np.asarray(translated_sentence).T\n",
    "\n",
    "    return translated_sentence"
   ]
  },
  {
   "cell_type": "code",
   "execution_count": 26,
   "metadata": {},
   "outputs": [],
   "source": [
    "img = cv2.imread('./sample/0.png')\n",
    "img = process_image(img)\n",
    "img = np.expand_dims(img, axis=0)\n",
    "img = torch.FloatTensor(img).to(device=device)"
   ]
  },
  {
   "cell_type": "code",
   "execution_count": 28,
   "metadata": {},
   "outputs": [
    {
     "data": {
      "text/plain": "'CỘNG HOÀ XÃ HỘI CHỦ NGHĨA'"
     },
     "execution_count": 28,
     "metadata": {},
     "output_type": "execute_result"
    }
   ],
   "source": [
    "s = translate(img)[0].tolist()\n",
    "s = vocab.decode(s)\n",
    "s"
   ]
  },
  {
   "cell_type": "code",
   "execution_count": null,
   "metadata": {},
   "outputs": [],
   "source": []
  }
 ],
 "metadata": {
  "kernelspec": {
   "display_name": "Python 3.7.10 64-bit ('manhbq': conda)",
   "name": "python3710jvsc74a57bd08073656a449d74c1402c8646685842603f61a524b0c74948679a8c6893091938"
  },
  "language_info": {
   "codemirror_mode": {
    "name": "ipython",
    "version": 3
   },
   "file_extension": ".py",
   "mimetype": "text/x-python",
   "name": "python",
   "nbconvert_exporter": "python",
   "pygments_lexer": "ipython3",
   "version": "3.7.10"
  },
  "orig_nbformat": 2
 },
 "nbformat": 4,
 "nbformat_minor": 2
}