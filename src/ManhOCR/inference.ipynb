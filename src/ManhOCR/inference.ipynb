{
 "metadata": {
  "language_info": {
   "codemirror_mode": {
    "name": "ipython",
    "version": 3
   },
   "file_extension": ".py",
   "mimetype": "text/x-python",
   "name": "python",
   "nbconvert_exporter": "python",
   "pygments_lexer": "ipython3",
   "version": "3.7.10"
  },
  "orig_nbformat": 2,
  "kernelspec": {
   "name": "python3710jvsc74a57bd08073656a449d74c1402c8646685842603f61a524b0c74948679a8c6893091938",
   "display_name": "Python 3.7.10 64-bit ('manhbq': conda)"
  }
 },
 "nbformat": 4,
 "nbformat_minor": 2,
 "cells": [
  {
   "cell_type": "code",
   "execution_count": 1,
   "metadata": {},
   "outputs": [],
   "source": [
    "import sys\n",
    "sys.path.append('/home/manhbui/manhbq_workspace/pdf-converter/')\n",
    "from text_recognition import TextRecognition\n",
    "import torch\n",
    "from pathlib import Path\n",
    "import cv2"
   ]
  },
  {
   "cell_type": "code",
   "execution_count": 2,
   "metadata": {},
   "outputs": [],
   "source": [
    "text_recog_config_path = './config/base.yml'\n",
    "text_recog_weights_path = \"./weights/convert_weight.pth.tar\"\n",
    "device = torch.device(\"cpu\")"
   ]
  },
  {
   "cell_type": "code",
   "execution_count": 3,
   "metadata": {},
   "outputs": [
    {
     "output_type": "stream",
     "name": "stdout",
     "text": [
      "The number of images:  821\n"
     ]
    }
   ],
   "source": [
    "path = Path('./text_spans')\n",
    "data = list(path.glob(\"*.jpg\")) + list(path.glob(\"*.png\"))\n",
    "batch_img = []\n",
    "\n",
    "for d in data:\n",
    "    img_path = str(d)\n",
    "    img = cv2.imread(str(img_path))\n",
    "    batch_img.append(img)\n",
    "print('The number of images: ', len(batch_img))"
   ]
  },
  {
   "cell_type": "code",
   "execution_count": 4,
   "metadata": {},
   "outputs": [],
   "source": [
    "repvgg_text_recog = TextRecognition(device=device, weight_path=text_recog_weights_path, config_path=text_recog_config_path, model_type='repvgg')"
   ]
  },
  {
   "cell_type": "code",
   "execution_count": 6,
   "metadata": {},
   "outputs": [
    {
     "output_type": "stream",
     "name": "stdout",
     "text": [
      "Estimated time:  28.487407445907593\n"
     ]
    }
   ],
   "source": [
    "import time\n",
    "\n",
    "start = time.time()\n",
    "result = repvgg_text_recog.predict_on_batch(batch_img)\n",
    "print('Estimated time: ', time.time() - start)"
   ]
  },
  {
   "cell_type": "code",
   "execution_count": null,
   "metadata": {},
   "outputs": [],
   "source": []
  }
 ]
}